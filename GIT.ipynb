{
  "nbformat": 4,
  "nbformat_minor": 0,
  "metadata": {
    "colab": {
      "provenance": []
    },
    "kernelspec": {
      "display_name": "Python 3",
      "name": "python3"
    }
  },
  "cells": [
    {
      "cell_type": "markdown",
      "metadata": {
        "id": "Gj0n4UHrMzPW"
      },
      "source": [
        "# **GIT**  \n",
        "Es un sistema control de versiones más popular, el que controla distintas versiones de un programa (a medida que un proyecto va creciendo, se va a ir haciendo modificaciones en el tiempo).  \n",
        "Por ejemplo; si se está desarrollando un código de un programa, que se guardó en un repositorio local o visible a múltiples colaboradores, se podrá ver quién hizo modificaciones, qué día, hora, qué línea de código,etc, así mismo se podrá revertir los cambios, es decir si se ha avanzado a una versión 6 y resulta que quieres usar los códigos de la versión 3 se puede regresar a ver el código, revertir el código o trabajar con ese código u otro, es como regresar en el tiempo sin perder información en cada cambio realizado.\n",
        "\n",
        "Git permite hacer un seguimiento a las modificaciones a manera de \"snapshop\" , toma como una foto a las modificaciones, y se puede volver a ver.   \n",
        "Git instala una especie de terminal, como una consola: con 3 áreas: \n",
        "\n",
        "- **Working directory:** donde se trabajará con todos los archivos  \n",
        "- **Staging area:** donde se agragan los archivos que se van a preparar para el guardado (listado de versiones) \n",
        "- **repository:** es donde se pasan las versiones ya definidas \n",
        "\n",
        "# Comandos Básicos:\n",
        "**git init:** le decimos al sistema operativo que vamos a crear un proyecto nuevo o utilizar un proyecto que ya se ha creado.    \n",
        "**git add:** para pasar los archivos del Working directory al Staging area.  \n",
        "**git status:** para ver en qué estado estan los archivos (si estan en el Working directory o en el Staging area, etc).  \n",
        "**git commit:** para pasar del Staging area al repository (solo para crear un primer \"snapshop\", primera foto de la versión definida).   \n",
        "**git push:** Para subirlo a un repositorio remoto (a un servidor para que tengan acceso los desarrolladores con permiso para hacer modificaciones).  \n",
        "**git pull:** En caso se esten trabajando con múltiples desarrolladores para traer los cambios que han hecho.   \n",
        "**git clone:** Hacer una copia desde el servidor central a la computadora para que se pueda trabajar.  \n",
        "\n",
        "# Ejercicio:    \n",
        "\n",
        "Crear en el escritorio una carpeta:\n",
        "agregar 2 o más archivos:\n",
        "\n",
        "- Click derecho en la carpeta y selccionar GIT Bash here para abrir la consola e iniciar justo en esa carpeta.\n",
        "- escribir: pwd (para que nos muestre donde se encuentra)\n",
        "- escribir: ls (para que nos muestre los archivos dentro de esa carpeta).\n",
        "- escribir: git init (se creó .git oculto, se encanga de administrar. Se está empezando a trabajar en el Working directory)\n",
        "- escribir: git status (muestra que hay archivos al aire, sin seguimiento, además nos indica como hacer para dar el seguimiento)\n",
        "\n",
        "- escribir: git add . (para dar seguimiento a los archivos)\n",
        "- escribir: git status (para ver el estado en el que ahora se encuentran los archivos)\n",
        "- Agregar un nuevo archivo en la carpeta creada.\n",
        "- escribir: git status (muestra que hay un archivo nuevo sin seguimiento)\n",
        "- escribir: git add . (o copiar el nombre del archivo nuevo para que le de seguimiento)\n",
        "- escribir: git status (muestra que a todos los archivos se estan dando segumiento). Ya estamos trabajando en el Staging area.\n",
        "Vamos a crear el primer \"snapshop\" o nuevo punto de partida.\n",
        "- escribir: git commit (para crear un primer punto de control de nuestro código)\n",
        "***En caso no identifique, ya que pregunta quien está desarrollando, entonces hay que configurar colocando:\n",
        "git config --global user.email \"correo@..\"\n",
        "git config --global user.name \"nombre\"\n",
        "\n",
        "- escribir: git status (veremos que ya los archivos que estan en el area de trabajo, los que ahora pasaremos con un \"snapshop\",nuestro primer punto de partida para tomarle una especie de foto al proyecto\"\n",
        "- escribir: git commit \n",
        "Se observa que la consola ha cambiado, entonces podemos editar el texto \"Mi primer commit\" en la parte superior presionando primero la letra i.Luego presionar ESC y escribir \":wq\" para regresar a la consola donde anteriormente estuvimos.\n",
        "**vemos ahora que menciona cuántos y qué archivos se han cambiado, insertados, eliminado y que se ha creado una especie de ID para cada archivo (100644) .\n",
        "- escribir git log (ahora nos estrega una especie de HEAD como una manera de diferenciar un commit o snapshop o cada versión de programa . y nos muestra todos los archivos que hemos creado)\n",
        "- escribir git status (ahora muestra que no hay nada commiteado, nada para agregar, el entorno de trabajo esta limpio)\n",
        "***en uno de los archivos hacer modificaciones...\n",
        "-escribir: git status (se mostraran los cambios hechos y además podemos descartar los cambios)\n",
        "- escribir: git checkout -- index.html\n",
        "- escribir: git status (ahora nos muestra que está limpio. cabe mencionar que no se puede volver a ese cambio anterior ya que no se hizo un snapshop)\n",
        "***volver a modificar en un archivo\n",
        "-escribir: git status\n",
        "- escribir: git diff \"nombre del archivo.extensión\" (para ver las diferencias hechas en los archivos). Muestra lo que se agregó (+) y se ha eliminado (-) Pero hasta allí no se ha agregado el archivo para seguimiento.\n",
        "- escribe: git add . \n",
        "\n",
        "-escribe: git commit \n",
        "***nuevamente con la letra i para escribir el mensaje en la nueva consola que aparece, el mensaje a escribir es \"ahora el <nombredelarchivo.extensión> tiene código html  \n",
        "***presiono escape y en la parte inferior que se ubica el puntero  escribir: \": wq\" \n",
        "Nos muestra la consola donde estuvimos indicandonos que se hizo cambios, inserciones, eliminaciones, el mensaje, lineas de código.\n",
        "- escribe: git log (observamos que aún se tienen la captura/foto anterior y podemos regresar a ella [volver HEAD])"
      ]
    },
    {
      "cell_type": "markdown",
      "source": [
        "Continuar accediendo al pdf **GIT-GITHUB**"
      ],
      "metadata": {
        "id": "L7dMTupVLpal"
      }
    }
  ]
}